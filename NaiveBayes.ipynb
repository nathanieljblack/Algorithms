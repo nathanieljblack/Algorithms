{
 "cells": [
  {
   "cell_type": "markdown",
   "metadata": {},
   "source": [
    "# Naive Bayes"
   ]
  },
  {
   "cell_type": "markdown",
   "metadata": {
    "collapsed": true
   },
   "source": [
    "Example 10.2 in Barber's *Bayesian Reasoning and Machine Learning*"
   ]
  },
  {
   "cell_type": "code",
   "execution_count": 38,
   "metadata": {
    "collapsed": false
   },
   "outputs": [],
   "source": [
    "%matplotlib inline\n",
    "import numpy as np\n",
    "import pandas as pd\n",
    "import matplotlib.pyplot as plt\n",
    "import seaborn as sns"
   ]
  },
  {
   "cell_type": "code",
   "execution_count": 39,
   "metadata": {
    "collapsed": false
   },
   "outputs": [
    {
     "data": {
      "text/html": [
       "<div>\n",
       "<table border=\"1\" class=\"dataframe\">\n",
       "  <thead>\n",
       "    <tr style=\"text-align: right;\">\n",
       "      <th></th>\n",
       "      <th>football</th>\n",
       "      <th>lager</th>\n",
       "      <th>nationality</th>\n",
       "      <th>porridge</th>\n",
       "      <th>shortbread</th>\n",
       "      <th>whiskey</th>\n",
       "    </tr>\n",
       "  </thead>\n",
       "  <tbody>\n",
       "    <tr>\n",
       "      <th>0</th>\n",
       "      <td>1</td>\n",
       "      <td>0</td>\n",
       "      <td>English</td>\n",
       "      <td>1</td>\n",
       "      <td>0</td>\n",
       "      <td>1</td>\n",
       "    </tr>\n",
       "    <tr>\n",
       "      <th>1</th>\n",
       "      <td>0</td>\n",
       "      <td>0</td>\n",
       "      <td>English</td>\n",
       "      <td>1</td>\n",
       "      <td>1</td>\n",
       "      <td>1</td>\n",
       "    </tr>\n",
       "    <tr>\n",
       "      <th>2</th>\n",
       "      <td>1</td>\n",
       "      <td>1</td>\n",
       "      <td>English</td>\n",
       "      <td>0</td>\n",
       "      <td>1</td>\n",
       "      <td>0</td>\n",
       "    </tr>\n",
       "    <tr>\n",
       "      <th>3</th>\n",
       "      <td>0</td>\n",
       "      <td>1</td>\n",
       "      <td>English</td>\n",
       "      <td>0</td>\n",
       "      <td>1</td>\n",
       "      <td>0</td>\n",
       "    </tr>\n",
       "    <tr>\n",
       "      <th>4</th>\n",
       "      <td>1</td>\n",
       "      <td>1</td>\n",
       "      <td>English</td>\n",
       "      <td>0</td>\n",
       "      <td>0</td>\n",
       "      <td>0</td>\n",
       "    </tr>\n",
       "    <tr>\n",
       "      <th>5</th>\n",
       "      <td>0</td>\n",
       "      <td>0</td>\n",
       "      <td>English</td>\n",
       "      <td>1</td>\n",
       "      <td>0</td>\n",
       "      <td>0</td>\n",
       "    </tr>\n",
       "    <tr>\n",
       "      <th>6</th>\n",
       "      <td>1</td>\n",
       "      <td>0</td>\n",
       "      <td>Scottish</td>\n",
       "      <td>1</td>\n",
       "      <td>1</td>\n",
       "      <td>0</td>\n",
       "    </tr>\n",
       "    <tr>\n",
       "      <th>7</th>\n",
       "      <td>1</td>\n",
       "      <td>1</td>\n",
       "      <td>Scottish</td>\n",
       "      <td>0</td>\n",
       "      <td>1</td>\n",
       "      <td>0</td>\n",
       "    </tr>\n",
       "    <tr>\n",
       "      <th>8</th>\n",
       "      <td>0</td>\n",
       "      <td>1</td>\n",
       "      <td>Scottish</td>\n",
       "      <td>1</td>\n",
       "      <td>1</td>\n",
       "      <td>1</td>\n",
       "    </tr>\n",
       "    <tr>\n",
       "      <th>9</th>\n",
       "      <td>0</td>\n",
       "      <td>1</td>\n",
       "      <td>Scottish</td>\n",
       "      <td>1</td>\n",
       "      <td>1</td>\n",
       "      <td>0</td>\n",
       "    </tr>\n",
       "    <tr>\n",
       "      <th>10</th>\n",
       "      <td>1</td>\n",
       "      <td>1</td>\n",
       "      <td>Scottish</td>\n",
       "      <td>1</td>\n",
       "      <td>1</td>\n",
       "      <td>0</td>\n",
       "    </tr>\n",
       "    <tr>\n",
       "      <th>11</th>\n",
       "      <td>0</td>\n",
       "      <td>0</td>\n",
       "      <td>Scottish</td>\n",
       "      <td>1</td>\n",
       "      <td>1</td>\n",
       "      <td>1</td>\n",
       "    </tr>\n",
       "    <tr>\n",
       "      <th>12</th>\n",
       "      <td>0</td>\n",
       "      <td>0</td>\n",
       "      <td>Scottish</td>\n",
       "      <td>0</td>\n",
       "      <td>1</td>\n",
       "      <td>1</td>\n",
       "    </tr>\n",
       "  </tbody>\n",
       "</table>\n",
       "</div>"
      ],
      "text/plain": [
       "    football  lager nationality  porridge  shortbread  whiskey\n",
       "0          1      0     English         1           0        1\n",
       "1          0      0     English         1           1        1\n",
       "2          1      1     English         0           1        0\n",
       "3          0      1     English         0           1        0\n",
       "4          1      1     English         0           0        0\n",
       "5          0      0     English         1           0        0\n",
       "6          1      0    Scottish         1           1        0\n",
       "7          1      1    Scottish         0           1        0\n",
       "8          0      1    Scottish         1           1        1\n",
       "9          0      1    Scottish         1           1        0\n",
       "10         1      1    Scottish         1           1        0\n",
       "11         0      0    Scottish         1           1        1\n",
       "12         0      0    Scottish         0           1        1"
      ]
     },
     "execution_count": 39,
     "metadata": {},
     "output_type": "execute_result"
    }
   ],
   "source": [
    "df = pd.DataFrame({'nationality': ['English', 'English', 'English', 'English', 'English', 'English',\n",
    "                                  'Scottish', 'Scottish', 'Scottish', 'Scottish', 'Scottish', 'Scottish','Scottish'],\n",
    "                  'shortbread' : [0,1,1,1,0,0,1,1,1,1,1,1,1],\n",
    "                  'lager' : [0,0,1,1,1,0,0,1,1,1,1,0,0],\n",
    "                  'whiskey': [1,1,0,0,0,0,0,0,1,0,0,1,1],\n",
    "                  'porridge': [1,1,0,0,0,1,1,0,1,1,1,1,0],\n",
    "                  'football': [1,0,1,0,1,0,1,1,0,0,1,0,0]})\n",
    "df"
   ]
  },
  {
   "cell_type": "markdown",
   "metadata": {},
   "source": [
    "Use Pandas to calculate the conditional probabilities and class probabilities"
   ]
  },
  {
   "cell_type": "code",
   "execution_count": 45,
   "metadata": {
    "collapsed": false
   },
   "outputs": [
    {
     "data": {
      "text/plain": [
       "{'English': {'football': 0.5,\n",
       "  'lager': 0.5,\n",
       "  'porridge': 0.5,\n",
       "  'shortbread': 0.5,\n",
       "  'whiskey': 0.33333333333333331},\n",
       " 'Scottish': {'football': 0.42857142857142855,\n",
       "  'lager': 0.5714285714285714,\n",
       "  'porridge': 0.7142857142857143,\n",
       "  'shortbread': 1.0,\n",
       "  'whiskey': 0.42857142857142855}}"
      ]
     },
     "execution_count": 45,
     "metadata": {},
     "output_type": "execute_result"
    }
   ],
   "source": [
    "cond_probs = df.groupby('nationality').mean().to_dict(orient = 'index')\n",
    "cond_probs"
   ]
  },
  {
   "cell_type": "code",
   "execution_count": 46,
   "metadata": {
    "collapsed": false
   },
   "outputs": [],
   "source": [
    "class_probs = df.groupby('nationality').size() / df['nationality'].size"
   ]
  },
  {
   "cell_type": "markdown",
   "metadata": {},
   "source": [
    "Use Bayes' Rule to determine $P(Scottish | (1,0,1,1,0))$ "
   ]
  },
  {
   "cell_type": "code",
   "execution_count": 47,
   "metadata": {
    "collapsed": false
   },
   "outputs": [],
   "source": [
    "prob_x_english = (cond_probs['English']['shortbread'] * \n",
    "                    (1-cond_probs['English']['lager']) * \n",
    "                    cond_probs['English']['whiskey'] * \n",
    "                    cond_probs['English']['porridge'] * \n",
    "                    (1-cond_probs['English']['football']))\n",
    "\n",
    "prob_x_scottish = (cond_probs['Scottish']['shortbread'] * \n",
    "                    (1-cond_probs['Scottish']['lager']) * \n",
    "                    cond_probs['Scottish']['whiskey'] * \n",
    "                    cond_probs['Scottish']['porridge'] * \n",
    "                    (1-cond_probs['Scottish']['football'])) \n",
    "\n",
    "prob_x = prob_x_english * class_probs['English'] + prob_x_scottish * class_probs['Scottish']"
   ]
  },
  {
   "cell_type": "code",
   "execution_count": 48,
   "metadata": {
    "collapsed": false
   },
   "outputs": [
    {
     "data": {
      "text/plain": [
       "0.80762759394279304"
      ]
     },
     "execution_count": 48,
     "metadata": {},
     "output_type": "execute_result"
    }
   ],
   "source": [
    "prob_x_scottish * class_probs['Scottish'] / prob_x"
   ]
  }
 ],
 "metadata": {
  "kernelspec": {
   "display_name": "Python 2",
   "language": "python",
   "name": "python2"
  },
  "language_info": {
   "codemirror_mode": {
    "name": "ipython",
    "version": 2
   },
   "file_extension": ".py",
   "mimetype": "text/x-python",
   "name": "python",
   "nbconvert_exporter": "python",
   "pygments_lexer": "ipython2",
   "version": "2.7.11"
  }
 },
 "nbformat": 4,
 "nbformat_minor": 0
}
